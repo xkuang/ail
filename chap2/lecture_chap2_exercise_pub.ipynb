{
 "cells": [
  {
   "cell_type": "markdown",
   "metadata": {},
   "source": [
    "# 第2回講義\n",
    "\n",
    "<small><i>Kenji Ogawa, Yusuke Sugomori</i></small>\n",
    "\n",
    "**目的**: numpy, scipy, scikit-learn の使い方を理解する\n",
    "\n",
    "- すでに知っているという人は宿題を進めてください。\n",
    "- 宿題も終わってしまった人は[100 numpy exercises](http://www.labri.fr/perso/nrougier/teaching/numpy.100/)に挑戦してみてください。\n",
    "\n",
    "\n",
    "### 目次\n",
    "\n",
    "#### 1. numpy実装 vs 自前実装 （講義の内容の確認）\n",
    "\n",
    "#### 2. numpy\n",
    "\n",
    "  - 準備\n",
    "\n",
    "    - dir\n",
    "    - サブモジュール\n",
    "    - ?\n",
    "    - version\n",
    "\n",
    "  - 実践\n",
    "  \n",
    "    - 行列・ベクトルに関する計算\n",
    "    - 成分の取り出し、スライス\n",
    "    - 演算子\n",
    "    - 初期化\n",
    "    - Broadcasting\n",
    "    \n",
    "    ** 問題 1: 1-1, 1-2 **\n",
    "    <br><br>\n",
    "\n",
    "    - 行列の成分をリストとして取り出す\n",
    "    - 条件式\n",
    "    - 乱数\n",
    "      - 乱数シード\n",
    "\n",
    "\n",
    "#### 3. scikit-learn (sklearn)\n",
    "\n",
    "    - train_test_split\n",
    "  \n",
    "  - MNIST 手書き数字データ  \n",
    "    - データの取得\n",
    "\n",
    "  - Train, Validation, Test\n",
    "    - Train\n",
    "    - Validation\n",
    "    - Test\n",
    "    \n",
    "  - Train, Validation, Test 例\n",
    "  \n",
    "#### 参考：画像処理\n",
    "\n",
    "  - matplotlib\n",
    "  - ２次元画像の扱い\n",
    "\n",
    "** 問題 2: 2-1, 2-2, 2-3, 2-4 **\n",
    "<br><br>"
   ]
  },
  {
   "cell_type": "markdown",
   "metadata": {},
   "source": [
    "## 1. numpy実装 vs 自前実装\n",
    "\n",
    "$$ \\displaystyle\\sum_{n = 1}^{N} \\frac{1}{n^2} $$\n",
    "\n",
    "の実装での比較"
   ]
  },
  {
   "cell_type": "code",
   "execution_count": 1,
   "metadata": {
    "collapsed": true
   },
   "outputs": [],
   "source": [
    "import numpy as np\n",
    "\n",
    "def sum_handmade_1(xs):\n",
    "    sum_ = .0\n",
    "    for x in xs:\n",
    "        sum_ += x\n",
    "    return sum_"
   ]
  },
  {
   "cell_type": "code",
   "execution_count": 2,
   "metadata": {
    "collapsed": true
   },
   "outputs": [],
   "source": [
    "N = 100000000\n",
    "xs = 1 / (np.arange(1, N))**2"
   ]
  },
  {
   "cell_type": "code",
   "execution_count": 3,
   "metadata": {
    "collapsed": false
   },
   "outputs": [],
   "source": [
    "# numpy\n",
    "%time a = xs.sum()"
   ]
  },
  {
   "cell_type": "code",
   "execution_count": 4,
   "metadata": {
    "collapsed": false
   },
   "outputs": [],
   "source": [
    "# native implementation (handmade)\n",
    "%time b = sum_handmade_1(xs)"
   ]
  },
  {
   "cell_type": "code",
   "execution_count": 5,
   "metadata": {
    "collapsed": false
   },
   "outputs": [],
   "source": [
    "# compare results\n",
    "print('{0:.15f}'.format(a))\n",
    "print('{0:.15f}'.format(b))"
   ]
  },
  {
   "cell_type": "markdown",
   "metadata": {},
   "source": [
    "計算中の丸め込みにより自前実装だと誤差が大きいことが確認できる。\n",
    "自前でも誤差を小さくするよう実装をすることはできるが..."
   ]
  },
  {
   "cell_type": "code",
   "execution_count": 6,
   "metadata": {
    "collapsed": true
   },
   "outputs": [],
   "source": [
    "def sum_handmade_2(xs):\n",
    "    src = xs\n",
    "    while(len(src) > 1):\n",
    "        sums_neighbor = []\n",
    "        for i in range(len(src) // 2):\n",
    "            sums_neighbor.append(src[2 * i] + src[2 * i + 1])\n",
    "        if len(src) % 2 == 1:\n",
    "            sums_neighbor.append(src[-1])\n",
    "        src = sums_neighbor\n",
    "    return sums_neighbor[0]"
   ]
  },
  {
   "cell_type": "code",
   "execution_count": 7,
   "metadata": {
    "collapsed": false
   },
   "outputs": [],
   "source": [
    "%time c = sum_handmade_2(xs)"
   ]
  },
  {
   "cell_type": "code",
   "execution_count": 8,
   "metadata": {
    "collapsed": false
   },
   "outputs": [],
   "source": [
    "print('{0:.15f}'.format(c))"
   ]
  },
  {
   "cell_type": "markdown",
   "metadata": {},
   "source": [
    "それでもnumpyを使ったほうが正確で、かつ `sum_handmade_2` は処理に時間がかかってしまう。\n",
    "\n",
    "**数値計算はライブラリに頼って、Deep Learningの理論の理解に時間をかけましょう**"
   ]
  },
  {
   "cell_type": "markdown",
   "metadata": {},
   "source": [
    "## 2. numpy\n",
    "\n",
    "\n",
    "### 準備"
   ]
  },
  {
   "cell_type": "markdown",
   "metadata": {},
   "source": [
    "#### dir: モジュールやクラスメンバーの確認"
   ]
  },
  {
   "cell_type": "code",
   "execution_count": 9,
   "metadata": {
    "collapsed": false
   },
   "outputs": [],
   "source": [
    "import numpy as np\n",
    "dir(np)"
   ]
  },
  {
   "cell_type": "markdown",
   "metadata": {},
   "source": [
    "##### サブモジュールにも関数が入っています"
   ]
  },
  {
   "cell_type": "code",
   "execution_count": 10,
   "metadata": {
    "collapsed": false
   },
   "outputs": [],
   "source": [
    "dir(np.linalg)"
   ]
  },
  {
   "cell_type": "code",
   "execution_count": 11,
   "metadata": {
    "collapsed": false
   },
   "outputs": [],
   "source": [
    "dir(np.random)"
   ]
  },
  {
   "cell_type": "markdown",
   "metadata": {},
   "source": [
    "#### ?: 関数の詳細を確認"
   ]
  },
  {
   "cell_type": "code",
   "execution_count": 13,
   "metadata": {
    "collapsed": true
   },
   "outputs": [],
   "source": [
    "np.random.randint?"
   ]
  },
  {
   "cell_type": "markdown",
   "metadata": {},
   "source": [
    "#### __version__: バージョン確認"
   ]
  },
  {
   "cell_type": "code",
   "execution_count": 14,
   "metadata": {
    "collapsed": false
   },
   "outputs": [],
   "source": [
    "np.__version__"
   ]
  },
  {
   "cell_type": "markdown",
   "metadata": {},
   "source": [
    "#### 実践\n",
    "\n",
    "すべての機能について説明することはできないので、ここでは特に今後の講義・演習で必要になってくる基本的な事柄について触れていきます。\n",
    "\n",
    "\n",
    "※ コードの部分は、結果を予想してから実行ボタンを押してください。\n",
    "\n",
    "※ どのような挙動になるのか、自分で一部変更して結果を確認してみてください。"
   ]
  },
  {
   "cell_type": "markdown",
   "metadata": {},
   "source": [
    "#### 行列・ベクトルに関する計算"
   ]
  },
  {
   "cell_type": "code",
   "execution_count": 15,
   "metadata": {
    "collapsed": false
   },
   "outputs": [],
   "source": [
    "import numpy as np\n",
    "\n",
    "W = np.array([[1, 2, 3], [4, 5, 6]])\n",
    "x = np.array([7, 8, 9])\n",
    "\n",
    "print(W)\n",
    "print(x)\n",
    "\n",
    "# transpose\n",
    "print(W.T)\n",
    "\n",
    "# flatten\n",
    "print(W.flatten())\n",
    "\n",
    "# reshape\n",
    "print(W.reshape(3, 2))"
   ]
  },
  {
   "cell_type": "code",
   "execution_count": 16,
   "metadata": {
    "collapsed": false
   },
   "outputs": [],
   "source": [
    "# dot product（内積）\n",
    "\n",
    "W = np.array([[1, 2, 3], [4, 5, 6]])\n",
    "x = np.array([7, 8, 9])\n",
    "\n",
    "print(np.dot(W, x))\n",
    "print(np.dot(x, W.T))"
   ]
  },
  {
   "cell_type": "code",
   "execution_count": 17,
   "metadata": {
    "collapsed": false
   },
   "outputs": [],
   "source": [
    "# scalar operation（スカラー演算）\n",
    "\n",
    "W = np.array([[1, 2, 3], [4, 5, 6]])\n",
    "x = np.array([7, 8, 9])\n",
    "\n",
    "print(W * 2)\n",
    "print(-x)"
   ]
  },
  {
   "cell_type": "markdown",
   "metadata": {},
   "source": [
    "#### 成分の取り出し、スライス\n",
    "\n",
    "```\n",
    "x[begin: end: slice]\n",
    "x[begin: end] （2番めのコロンは省略可）\n",
    "```\n",
    "\n",
    "※ begin と end の考え方\n",
    "\n",
    "```\n",
    "x = np.array([7, 8, 9, 10])\n",
    "\n",
    "component 7  8  9  10\n",
    "index     0  1  2   3  4\n",
    "          |            |\n",
    "          begin        end\n",
    "```"
   ]
  },
  {
   "cell_type": "code",
   "execution_count": 18,
   "metadata": {
    "collapsed": false
   },
   "outputs": [],
   "source": [
    "x = np.array([7, 8, 9, 10])\n",
    "\n",
    "print(x[0])\n",
    "print(x[-1])\n",
    "print()\n",
    "\n",
    "print(x[0:4:1])\n",
    "print(x[:-1])\n",
    "print(x[1:])\n",
    "print()\n",
    "\n",
    "print(x[::2])\n",
    "print(x[::-1])\n",
    "print(x[1::2])"
   ]
  },
  {
   "cell_type": "code",
   "execution_count": 19,
   "metadata": {
    "collapsed": false
   },
   "outputs": [],
   "source": [
    "W = np.array([[1, 2, 3], [4, 5, 6]])\n",
    "\n",
    "print(W)\n",
    "print()\n",
    "\n",
    "print(W[0])\n",
    "print(W[1])\n",
    "print()\n",
    "\n",
    "print(W[:, 0])\n",
    "print(W[:, 1])\n",
    "print(W[:, 2])\n",
    "print()\n",
    "\n",
    "print(W[::-1])\n",
    "print()\n",
    "\n",
    "print(W[:, ::-1])\n",
    "print()\n",
    "\n",
    "print(W[::-1, ::-1])"
   ]
  },
  {
   "cell_type": "markdown",
   "metadata": {},
   "source": [
    "#### 演算子 (sum, norm)"
   ]
  },
  {
   "cell_type": "code",
   "execution_count": 20,
   "metadata": {
    "collapsed": false
   },
   "outputs": [],
   "source": [
    "# sum, axis\n",
    "W = np.array([[1, 2, 3], [4, 5, 6]])\n",
    "\n",
    "print(W)\n",
    "print()\n",
    "\n",
    "print(W.sum())\n",
    "print()\n",
    "\n",
    "print(W.sum(axis=0))\n",
    "print()\n",
    "\n",
    "print(W.sum(axis=1))"
   ]
  },
  {
   "cell_type": "code",
   "execution_count": 21,
   "metadata": {
    "collapsed": false
   },
   "outputs": [],
   "source": [
    "# squared norm\n",
    "# sqrt(7*7 + 8*8 + 9*9) = 13.928....\n",
    "x = np.array([7, 8, 9])\n",
    "np.linalg.norm(x, ord=2)"
   ]
  },
  {
   "cell_type": "markdown",
   "metadata": {},
   "source": [
    "#### 初期化 (ones, zeros, reshape)"
   ]
  },
  {
   "cell_type": "code",
   "execution_count": 22,
   "metadata": {
    "collapsed": false
   },
   "outputs": [],
   "source": [
    "#　ones, zeros, reshape\n",
    "\n",
    "print(np.zeros(10))\n",
    "print()\n",
    "\n",
    "print(np.ones(10))\n",
    "print()\n",
    "\n",
    "print((np.ones(10) * 0.5))\n",
    "print()\n",
    "\n",
    "print(np.arange(10).reshape(2, 5))\n",
    "print()\n",
    "\n",
    "z = np.zeros(10)\n",
    "x = np.arange(7, 10)\n",
    "z[:len(x)] += x\n",
    "print(z)"
   ]
  },
  {
   "cell_type": "markdown",
   "metadata": {},
   "source": [
    "#### Broadcasting\n",
    "\n",
    "`W.shape = (M,N)`, `x.shape = (N,)`の場合\n",
    "\n",
    "(N,) => (M, N) とする事で `x`を`W`の`shape`に合わせる\n",
    "\n",
    "※ ただし (M,) => (M, N) のような broadcast はできない。\n",
    "\n",
    "参考：\n",
    "- http://docs.scipy.org/doc/numpy-1.10.1/user/basics.broadcasting.html\n",
    "- http://sucrose.hatenablog.com/entry/2014/12/15/000352"
   ]
  },
  {
   "cell_type": "code",
   "execution_count": 23,
   "metadata": {
    "collapsed": false
   },
   "outputs": [],
   "source": [
    "# broadcast\n",
    "\n",
    "W = np.array([[1, 2, 3], [4, 5, 6]])\n",
    "x = np.array([7, 8, 9])\n",
    "\n",
    "print(W)\n",
    "print(x)\n",
    "print()\n",
    "\n",
    "print(x - 1)\n",
    "print()\n",
    "\n",
    "print(W - 1)\n",
    "print()\n",
    "\n",
    "print(W * x)\n",
    "print()\n",
    "\n",
    "print(W + x)\n",
    "print()"
   ]
  },
  {
   "cell_type": "markdown",
   "metadata": {},
   "source": [
    "##### numpy.newaxis を使った broadcasting\n",
    "\n",
    "`x.shape = (3,1)`, `y.shape = (3,)` のとき\n",
    "まず右側の数字 `x.shape[-1]` と `y.shape[-1]` を合わせる\n",
    "\n",
    "`x.shape (3,1) => (3,3)`\n",
    "\n",
    "次に足りないのはそのままコピーされる\n",
    "\n",
    "`y.shape (3,) => (3,3)`"
   ]
  },
  {
   "cell_type": "code",
   "execution_count": 24,
   "metadata": {
    "collapsed": false
   },
   "outputs": [],
   "source": [
    "W = np.array([[1, 2, 3], [4, 5, 6]])\n",
    "x = np.array([7, 8, 9])\n",
    "\n",
    "print(W.shape)\n",
    "print(W.T.shape)\n",
    "print()\n",
    "\n",
    "print(x.shape)\n",
    "print(x.T.shape)  # x と x.T の shape は同じ\n",
    "print()\n",
    "\n",
    "print(x[np.newaxis, :])  # two dimension\n",
    "print()\n",
    "\n",
    "print(x[np.newaxis, :].shape)\n",
    "print()\n",
    "\n",
    "print(x[:, np.newaxis])  # two dimension with different shape\n",
    "print()\n",
    "\n",
    "print(x[:, np.newaxis].shape)\n",
    "\n",
    "print(x[:, np.newaxis] * x)\n",
    "print()\n",
    "\n",
    "print(x[np.newaxis].shape)  # x[np.newaxis,:]と同じ\n",
    "print()\n",
    "\n",
    "print(W.T + x[np.newaxis, :].T)"
   ]
  },
  {
   "cell_type": "markdown",
   "metadata": {},
   "source": [
    "## 問題 1\n",
    "\n",
    "### 1-1. \n",
    "\n",
    "```\n",
    "x = np.array([7, 8, 9])\n",
    "W = np.array([[1, 2, 3], [4, 5, 6]])\n",
    "```\n",
    "\n",
    "と同様の `x`, `W` を得るように `np.arange` を用いてコードを書いてください。\n",
    "\n",
    "\n",
    "### 1-2.\n",
    "\n",
    "以下のような表式を得るように `W` を変形してください。\n",
    "\n",
    "```\n",
    "[[ 1.  0. -1.]\n",
    "[ 4.  3.  2.]]\n",
    "```\n",
    "\n",
    "<small>ヒント: 縦の差は3,横の差は-1</small>"
   ]
  },
  {
   "cell_type": "code",
   "execution_count": 1,
   "metadata": {
    "collapsed": false
   },
   "outputs": [],
   "source": [
    "# write down your code （解答は一番下にあります）"
   ]
  },
  {
   "cell_type": "markdown",
   "metadata": {},
   "source": [
    "#### 行列の成分をリストとして取り出す\n",
    "\n",
    "参考：(Advanced Indexing) http://docs.scipy.org/doc/numpy-1.10.0/reference/arrays.indexing.html"
   ]
  },
  {
   "cell_type": "code",
   "execution_count": 26,
   "metadata": {
    "collapsed": false
   },
   "outputs": [],
   "source": [
    "x = np.arange(1, 3)[:, np.newaxis] * np.arange(1, 5)\n",
    "print(x)\n",
    "print()\n",
    "\n",
    "y = x[[0, 1, 0, 1], [0, 1, 2, 3]]\n",
    "print(y)\n",
    "print()\n",
    "\n",
    "# z is equivalent as y\n",
    "# [(0,0), (1,1), (0,2), (1,3)] is zip([0,1,0,1], [0,1,2,3]) \n",
    "z = np.array([x[0, 0], x[1, 1], x[0, 2], x[1, 3]])\n",
    "print(z)\n",
    "print()"
   ]
  },
  {
   "cell_type": "markdown",
   "metadata": {},
   "source": [
    "#### 条件式\n",
    "\n",
    "- `numpy.array`に条件式を書くと、成分毎の`True`, `False`を返す\n",
    "- `numpy.array`のかぎ括弧内に条件式を書くと`True`になっている成分だけを取り出した配列を返す\n",
    "\n",
    "※ `numpy.array`ではなく、`list`だと振る舞いは異なる。"
   ]
  },
  {
   "cell_type": "code",
   "execution_count": 27,
   "metadata": {
    "collapsed": false
   },
   "outputs": [],
   "source": [
    "a = np.arange(10)\n",
    "print(a)\n",
    "print(a < 5)\n",
    "print()\n",
    "\n",
    "b = np.arange(50, 60)\n",
    "print(b)\n",
    "print(b[a < 5])"
   ]
  },
  {
   "cell_type": "markdown",
   "metadata": {},
   "source": [
    "#### 乱数"
   ]
  },
  {
   "cell_type": "code",
   "execution_count": 28,
   "metadata": {
    "collapsed": false
   },
   "outputs": [],
   "source": [
    "# ガウス分布\n",
    "\n",
    "import numpy as np\n",
    "import matplotlib.pyplot as plt\n",
    "\n",
    "# グラフをipython notebook内に表示\n",
    "%matplotlib inline\n",
    "\n",
    "r = np.random.normal(0, 10, 1000)  # この数字を色々変えてみましょう。\n",
    "plt.plot(r, 'x')\n",
    "plt.show()"
   ]
  },
  {
   "cell_type": "code",
   "execution_count": 29,
   "metadata": {
    "collapsed": false
   },
   "outputs": [],
   "source": [
    "# 一様乱数\n",
    "\n",
    "r = np.random.uniform(-10, 10, 1000)  # この数字を変えてみよう。\n",
    "plt.plot(r, 'x')\n",
    "plt.show()"
   ]
  },
  {
   "cell_type": "markdown",
   "metadata": {},
   "source": [
    "##### 乱数シード\n",
    "\n",
    "乱数を用いて実験を行うと都度実験結果が異なってしまい、結果を適切に評価できなくなってしまうため、機械学習や深層学習の実験では、はじめに乱数シードを行うことが多いです。"
   ]
  },
  {
   "cell_type": "code",
   "execution_count": 31,
   "metadata": {
    "collapsed": false
   },
   "outputs": [],
   "source": [
    "import numpy as np\n",
    "import sklearn.utils\n",
    "\n",
    "# random.seedを設定するといつも同じ乱数が生成される\n",
    "\n",
    "np.random.seed(12345)  # ここをコメントアウトすると？, (123) => ()にすると？\n",
    "\n",
    "print(sklearn.utils.shuffle(range(10)))\n",
    "print(sklearn.utils.shuffle(range(10)))\n",
    "print(sklearn.utils.shuffle(range(10)))"
   ]
  },
  {
   "cell_type": "code",
   "execution_count": 32,
   "metadata": {
    "collapsed": false
   },
   "outputs": [],
   "source": [
    "# 応用編\n",
    "\n",
    "# RandomStateを使った書き方, 目的別に乱数を発生させる場合に必要\n",
    "import numpy as np\n",
    "import sklearn\n",
    "\n",
    "rng0 = np.random.RandomState(12345)\n",
    "rng1 = np.random.RandomState(34567)\n",
    "\n",
    "print(sklearn.utils.shuffle(range(10), random_state=rng0))\n",
    "print(sklearn.utils.shuffle(range(10), random_state=rng1))\n",
    "print(sklearn.utils.shuffle(range(10), random_state=rng0))\n",
    "print(sklearn.utils.shuffle(range(10), random_state=rng1))\n",
    "print()\n",
    "\n",
    "\n",
    "rng0 = np.random.RandomState(12345)\n",
    "rng1 = np.random.RandomState(34567)\n",
    "\n",
    "print(sklearn.utils.shuffle(range(10), random_state=rng1))\n",
    "print(sklearn.utils.shuffle(range(10), random_state=rng1))\n",
    "print(sklearn.utils.shuffle(range(10), random_state=rng0))\n",
    "print(sklearn.utils.shuffle(range(10), random_state=rng0))"
   ]
  },
  {
   "cell_type": "markdown",
   "metadata": {},
   "source": [
    "## 3. sklearn\n",
    "\n",
    "http://scikit-learn.org/stable/"
   ]
  },
  {
   "cell_type": "markdown",
   "metadata": {},
   "source": [
    "#### train_test_split\n",
    "\n",
    "学習データとテストデータを高速に分割してくれる"
   ]
  },
  {
   "cell_type": "code",
   "execution_count": 36,
   "metadata": {
    "collapsed": false
   },
   "outputs": [],
   "source": [
    "from sklearn.cross_validation import train_test_split\n",
    "import string\n",
    "\n",
    "lettersAtoE = string.ascii_uppercase[:5]\n",
    "print(lettersAtoE)\n",
    "print()\n",
    "\n",
    "train0to4, test0to4, trainAtoE, testAtoE = train_test_split(range(5), lettersAtoE)\n",
    "\n",
    "# ABCDEを01234と読みかえるとどうなるか？\n",
    "print(train0to4)\n",
    "print(trainAtoE)\n",
    "print()\n",
    "\n",
    "print(test0to4)\n",
    "print(testAtoE)"
   ]
  },
  {
   "cell_type": "markdown",
   "metadata": {},
   "source": [
    "### MNIST 手書き数字データ\n",
    "\n",
    "http://yann.lecun.com/exdb/mnist/"
   ]
  },
  {
   "cell_type": "markdown",
   "metadata": {},
   "source": [
    "#### データの取得"
   ]
  },
  {
   "cell_type": "code",
   "execution_count": 37,
   "metadata": {
    "collapsed": false
   },
   "outputs": [],
   "source": [
    "from sklearn.datasets import fetch_mldata\n",
    "import matplotlib.pyplot as plt  # matplotlib の使い方は後述\n",
    "%matplotlib inline\n",
    "\n",
    "# load data on your directry ~/scikit_learn_data/mldata/\n",
    "# if data does'nt exist, it downloads the data from site.\n",
    "mnist = fetch_mldata('MNIST original')\n",
    "\n",
    "# mnist.dataにはたくさんの画像データ（手書き数字）が入っている。\n",
    "print(mnist.data.shape)  # image 28 x 28 pixel\n",
    "print(mnist.target.shape)  # the label 0,1,2,...,9\n",
    "print(set(mnist.target))\n",
    "\n",
    "plt.imshow(mnist.data[0].reshape(28, 28), cmap='gray', interpolation='none')\n",
    "plt.show()"
   ]
  },
  {
   "cell_type": "markdown",
   "metadata": {},
   "source": [
    "### Train, Validation, Test 例"
   ]
  },
  {
   "cell_type": "code",
   "execution_count": 39,
   "metadata": {
    "collapsed": false
   },
   "outputs": [],
   "source": [
    "# Select one of Classifeir (LinearSVC, KNeighbor, SDG) using validation set\n",
    "# and test best set\n",
    "\n",
    "import numpy as np\n",
    "\n",
    "from sklearn.cross_validation import train_test_split\n",
    "from sklearn.datasets import fetch_mldata\n",
    "from sklearn.svm import LinearSVC\n",
    "from sklearn.neighbors import KNeighborsClassifier\n",
    "from sklearn.linear_model import SGDClassifier\n",
    "\n",
    "from sklearn.metrics import accuracy_score\n",
    "\n",
    "mnist = fetch_mldata('MNIST original')\n",
    "M = len(mnist.data)\n",
    "N = 2000  # Use part of MNIST data to save computation time\n",
    "# randomly select N numbers from 0 to M\n",
    "selected = np.random.permutation(range(M))[:N]\n",
    "\n",
    "# Split data into Train, Valid, Test\n",
    "train_valid_X, test_X, train_valid_y, test_y =\\\n",
    "    train_test_split(mnist.data[selected], mnist.target[selected])\n",
    "train_X, valid_X, train_y, valid_y =\\\n",
    "    train_test_split(train_valid_X, train_valid_y)\n",
    "\n",
    "classifiers = [LinearSVC(), KNeighborsClassifier(), SGDClassifier()]\n",
    "\n",
    "# Train each classifier with Train set\n",
    "accs = []\n",
    "for clf_type, classifier in enumerate(classifiers):\n",
    "    classifier.fit(train_X, train_y)\n",
    "    pred_train = classifier.predict(train_X)\n",
    "    acc_train = accuracy_score(train_y, pred_train)\n",
    "    pred_valid = classifier.predict(valid_X)\n",
    "    acc_valid = accuracy_score(valid_y, pred_valid)\n",
    "    print(\"classifier type: %d, Train Accuracy: %f, Validation Accuracy %f\" \\\n",
    "        % (clf_type, acc_train, acc_valid))\n",
    "    accs.append(acc_valid)\n",
    "\n",
    "# Chose best classifier with the highest validation accuracy\n",
    "i_clf_best = np.argmax(accs)\n",
    "print(\"Best Classifier: %d\" % i_clf_best)\n",
    "clf_best = classifiers[i_clf_best]\n",
    "\n",
    "# Test selected classifier\n",
    "pred = clf_best.predict(test_X)\n",
    "acc = accuracy_score(test_y, pred)\n",
    "print(\"Test(Best Classifier): %f\" % acc)"
   ]
  },
  {
   "cell_type": "markdown",
   "metadata": {},
   "source": [
    "### 参考： 画像処理"
   ]
  },
  {
   "cell_type": "code",
   "execution_count": 40,
   "metadata": {
    "collapsed": false
   },
   "outputs": [],
   "source": [
    "import scipy.ndimage\n",
    "\n",
    "ZOOM = 10  # 変えてみよう\n",
    "SIGMA = 10  # 変えてみよう\n",
    "ANGLE = 45  # 変えてみよう\n",
    "\n",
    "img = mnist.data[-1].reshape(28, 28)\n",
    "plt.imshow(img, cmap='gray', interpolation='none')\n",
    "plt.show()\n",
    "\n",
    "# 縮小拡大\n",
    "img = scipy.ndimage.zoom(img, (ZOOM, ZOOM), order=1)\n",
    "# ぼかし\n",
    "img = scipy.ndimage.gaussian_filter(img, SIGMA)\n",
    "# 回転\n",
    "img = scipy.ndimage.rotate(img, ANGLE)\n",
    "\n",
    "plt.imshow(img, cmap='gray', interpolation='none')\n",
    "plt.show()\n",
    "# edge抽出など\n",
    "# http://scikit-image.org/docs/dev/auto_examples/plot_canny.html\n",
    "# http://www.tp.umu.se/~nylen/fnm/pylect/advanced/image_processing/index.html"
   ]
  },
  {
   "cell_type": "code",
   "execution_count": 42,
   "metadata": {
    "collapsed": false
   },
   "outputs": [],
   "source": [
    "import sklearn\n",
    "imgs = list(map(lambda x: x.reshape(28, 28), sklearn.utils.shuffle(mnist.data)))\n",
    "\n",
    "fig = plt.figure()\n",
    "ax = fig.add_subplot(1, 4, 1)  # change to (2,2,1)\n",
    "ax.imshow(imgs[0], cmap='gray', interpolation='none')\n",
    "ax = fig.add_subplot(1, 4, 2)  # change to (2,2,2)\n",
    "ax.imshow(imgs[1], cmap='gray', interpolation='none')\n",
    "ax = fig.add_subplot(1, 4, 3)  # change to (2,2,3)\n",
    "ax.imshow(imgs[2], cmap='gray', interpolation='none')\n",
    "ax = fig.add_subplot(1, 4, 4)  # change to (2,2,4)\n",
    "ax.imshow(imgs[3], cmap='gray', interpolation='none')\n",
    "plt.show()"
   ]
  },
  {
   "cell_type": "markdown",
   "metadata": {},
   "source": [
    "### matplotlib"
   ]
  },
  {
   "cell_type": "code",
   "execution_count": 43,
   "metadata": {
    "collapsed": false
   },
   "outputs": [],
   "source": [
    "import matplotlib.pyplot as plt\n",
    "%matplotlib inline\n",
    "\n",
    "y = [0, 2, 1]\n",
    "\n",
    "plt.plot(y)\n",
    "plt.show()"
   ]
  },
  {
   "cell_type": "code",
   "execution_count": 46,
   "metadata": {
    "collapsed": false
   },
   "outputs": [],
   "source": [
    "import matplotlib.pyplot as plt\n",
    "%matplotlib inline\n",
    "\n",
    "# 2 curves\n",
    "y1 = [0, 2, 1]\n",
    "y2 = [1, 3, 4]\n",
    "\n",
    "plt.plot(y1)\n",
    "plt.plot(y2)\n",
    "plt.show()"
   ]
  },
  {
   "cell_type": "code",
   "execution_count": 47,
   "metadata": {
    "collapsed": false
   },
   "outputs": [],
   "source": [
    "import numpy as np\n",
    "import matplotlib.pyplot as plt\n",
    "%matplotlib inline\n",
    "\n",
    "x = [3, 4.5, 5, 6]\n",
    "y = [0, 2, 1, 3]\n",
    "\n",
    "plt.plot(x, y)\n",
    "plt.show()\n",
    "\n",
    "# scatter plot\n",
    "plt.plot(x, y, 'o')\n",
    "plt.show()"
   ]
  },
  {
   "cell_type": "markdown",
   "metadata": {},
   "source": [
    "#### 2次元画像の扱い\n",
    "\n",
    "`pyplot.imshow` を用いる\n",
    "\n",
    "参考：\n",
    "- http://matplotlib.org/users/pyplot_tutorial.html\n",
    "- http://matplotlib.org/1.4.1/examples/index.html"
   ]
  },
  {
   "cell_type": "code",
   "execution_count": 48,
   "metadata": {
    "collapsed": false
   },
   "outputs": [],
   "source": [
    "import numpy as np\n",
    "import matplotlib.pyplot as plt\n",
    "%matplotlib inline\n",
    "\n",
    "# By default, largest value is assigned as white, smallest value is assigned as black\n",
    "a = [[1.0, 0.7], [0.2, 0.0]]\n",
    "plt.imshow(a, cmap='gray', interpolation='none')\n",
    "plt.show()"
   ]
  },
  {
   "cell_type": "code",
   "execution_count": 49,
   "metadata": {
    "collapsed": false
   },
   "outputs": [],
   "source": [
    "# using subplot\n",
    "import numpy as np\n",
    "import matplotlib.pyplot as plt\n",
    "%matplotlib inline\n",
    "\n",
    "a = [[1.0, 0.7], [0.2, 0.0]]\n",
    "b = [[0.0, 0.2], [0.7, 1.0]]\n",
    "fig = plt.figure()\n",
    "ax = fig.add_subplot(1, 2, 1)  # タテ１　ヨコ２　１番目\n",
    "ax.imshow(a, cmap='gray', interpolation='none')\n",
    "ax = fig.add_subplot(1, 2, 2)  # タテ１　ヨコ２　２番目\n",
    "ax.imshow(b, cmap='gray', interpolation='none')\n",
    "plt.show()"
   ]
  },
  {
   "cell_type": "markdown",
   "metadata": {},
   "source": [
    "## 問題 2\n",
    "\n",
    "2-1. `mnist.data` には画像は何枚あるでしょうか。\n",
    "\n",
    "2-2. 画像データはどのようなグレースケールで表されているでしょうか。\n",
    "\n",
    "2-3. ４枚の数字を 縦2 $\\times$ 横2 で表示してみましょう。\n",
    "\n",
    "2-4. mnist にはどの数字がどれだけ入っているでしょうか。"
   ]
  },
  {
   "cell_type": "code",
   "execution_count": 2,
   "metadata": {
    "collapsed": false
   },
   "outputs": [],
   "source": [
    "# WRITE DOWN YOUR CODE"
   ]
  },
  {
   "cell_type": "markdown",
   "metadata": {
    "collapsed": true
   },
   "source": [
    "<br><br>\n",
    "### 問題 1 の答え"
   ]
  },
  {
   "cell_type": "code",
   "execution_count": 3,
   "metadata": {
    "collapsed": false
   },
   "outputs": [],
   "source": [
    "import numpy as np\n",
    "\n",
    "W = np.array([[1,2,3],[4,5,6]])\n",
    "x = np.arange(7, 10)\n",
    "W = np.arange(1,7).reshape(2, 3)\n",
    "print(x)\n",
    "print(W)\n",
    "\n",
    "print(W[:, ::-1] - 2)"
   ]
  },
  {
   "cell_type": "markdown",
   "metadata": {},
   "source": [
    "<br><br>\n",
    "### 問題 2 の答え"
   ]
  },
  {
   "cell_type": "code",
   "execution_count": 7,
   "metadata": {
    "collapsed": false
   },
   "outputs": [],
   "source": [
    "import sklearn\n",
    "from sklearn.datasets import fetch_mldata\n",
    "\n",
    "import matplotlib.pyplot as plt\n",
    "%matplotlib inline\n",
    "\n",
    "mnist = fetch_mldata('MNIST original')\n",
    "\n",
    "# 2-1\n",
    "print(len(mnist.data))\n",
    "\n",
    "# 2-2\n",
    "print(mnist.data.dtype)\n",
    "print(mnist.data.max())\n",
    "print(mnist.data.min())\n",
    "\n",
    "# 2-3\n",
    "imgs = list(map(lambda x: x.reshape(28, 28), sklearn.utils.shuffle(mnist.data)))\n",
    "\n",
    "fig = plt.figure()\n",
    "for i in range(4):\n",
    "    ax = fig.add_subplot(2, 2, i + 1)\n",
    "    ax.imshow(imgs[i], cmap='gray', interpolation='none')\n",
    "    \n",
    "# 2-4\n",
    "import collections\n",
    "collections.Counter(mnist.target)"
   ]
  },
  {
   "cell_type": "code",
   "execution_count": null,
   "metadata": {
    "collapsed": true
   },
   "outputs": [],
   "source": []
  }
 ],
 "metadata": {
  "kernelspec": {
   "display_name": "Python 3",
   "language": "python",
   "name": "python3"
  },
  "language_info": {
   "codemirror_mode": {
    "name": "ipython",
    "version": 3
   },
   "file_extension": ".py",
   "mimetype": "text/x-python",
   "name": "python",
   "nbconvert_exporter": "python",
   "pygments_lexer": "ipython3",
   "version": "3.5.0"
  }
 },
 "nbformat": 4,
 "nbformat_minor": 0
}
